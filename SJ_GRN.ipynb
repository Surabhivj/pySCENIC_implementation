{
 "cells": [
  {
   "cell_type": "markdown",
   "id": "f8a20887-6220-45c8-a788-89c32c528da2",
   "metadata": {
    "tags": []
   },
   "source": [
    "\n",
    "# Gene Regulatory Network (GRN) inference using Single-Cell RNA (scRNA) data.\n",
    " \n",
    "Before proceeding please follow the steps in  <a href=\"readme.html\"> README </a>  file. <br> \n",
    "After this steps, you have now installed all the required packages of the specific versions in the conda environment named ATRACTionRHU4 <br>\n",
    "To verify please make sure, the kernel on the right is ATRACTionRHU4\n",
    "    \n",
    "Now, check if the Seurat objects (.rds) are in <a href=\"./RDS_data/\"> RDS_data </a> folder <br> \n",
    "  \n",
    "### Import the packages and modules by running follwing cell\n"
   ]
  },
  {
   "cell_type": "code",
   "execution_count": 1,
   "id": "486cc0a3-626f-4b0c-8d56-5642b75c83ce",
   "metadata": {},
   "outputs": [],
   "source": [
    "#import packages\n",
    "import pandas as pd\n",
    "from ipywidgets import *\n",
    "from codes import form_extract_expression_mat as F\n",
    "from codes import pyscenic_input as I\n",
    "import os"
   ]
  },
  {
   "cell_type": "markdown",
   "id": "f05af436-7726-4ff6-9bea-c6322d825098",
   "metadata": {},
   "source": [
    "Colour codes through out the jupyter book <br>\n",
    "* <span style=\"color:orange\"> <b> Warning  </b> </span> <br>\n",
    "* <span style=\"color:purple\">  Example  </span>  \n",
    "\n",
    "     \n",
    "### Run the following script to extract gene expression matrix and meta data table\n",
    "\n",
    "Requirements: \n",
    "\n",
    "* R code:  path of the R script <span style=\"color:purple\">  ( e.g. codes/Extract_expression_mats.R ) </span>\n",
    "* RDS_file:  path of the RDS file  <span style=\"color:purple\">   ( e.g. \"RDS_data/00_final_IBD_exp3.rds\" ) </span>\n",
    "* Exp: the name/number of the experiment, additional info to create sub folders <span style=\"color:purple\">  ( e.g. 3 )</span>"
   ]
  },
  {
   "cell_type": "code",
   "execution_count": 2,
   "id": "8fa94562-2c8b-4b33-8196-0098335d0a65",
   "metadata": {},
   "outputs": [],
   "source": [
    "RDS_file = \"RDS_data/00_final_IBD_exp3.rds\"\n",
    "Exp = 3\n",
    "#!Rscript codes/Extract_expression_mats.R $RDS_file $Exp"
   ]
  },
  {
   "cell_type": "markdown",
   "id": "3bd96757-1383-4c07-a0c6-5a0f2b36124a",
   "metadata": {
    "tags": []
   },
   "source": [
    "<span style=\"color:orange\"> <b> ** Copy and paste the path of Meta-data table and Gene-expession matrix files below ** </b></span>"
   ]
  },
  {
   "cell_type": "code",
   "execution_count": 3,
   "id": "deb6791a-2a9d-4959-9c01-d873143e662e",
   "metadata": {},
   "outputs": [],
   "source": [
    "metadata_file = \"data/Exp3/00_final_IBD_exp3_metadata.csv.gz\"\n",
    "expdat_file = \"data/Exp3/00_final_IBD_exp3_expdata.csv.gz\""
   ]
  },
  {
   "cell_type": "code",
   "execution_count": 4,
   "id": "49fc9952-3c6d-40a0-be60-76b6ecbf5821",
   "metadata": {},
   "outputs": [],
   "source": [
    "#reading above files\n",
    "MetaData = pd.read_csv(metadata_file,  compression='gzip', index_col = 0)\n",
    "ExpDat = pd.read_csv(expdat_file,  compression='gzip', index_col = 0)"
   ]
  },
  {
   "cell_type": "code",
   "execution_count": 5,
   "id": "a1439db6-d19e-412a-8c2d-8eba704a18a1",
   "metadata": {},
   "outputs": [
    {
     "data": {
      "application/vnd.jupyter.widget-view+json": {
       "model_id": "b1ca39fba48b4a3c81e488a33164c20e",
       "version_major": 2,
       "version_minor": 0
      },
      "text/plain": [
       "HBox(children=(Dropdown(description='Sample column:', options=('orig.ident', 'nCount_RNA', 'nFeature_RNA', 'pe…"
      ]
     },
     "metadata": {},
     "output_type": "display_data"
    }
   ],
   "source": [
    "[Sample_column, Groups_column,Celltype_column, button] = F.A(MetaData)\n",
    "box = widgets.HBox([Sample_column, Groups_column,Celltype_column,button])\n",
    "display(box)"
   ]
  },
  {
   "cell_type": "markdown",
   "id": "bde58872-8d0e-437e-84cc-aac3a0acaaec",
   "metadata": {
    "tags": []
   },
   "source": [
    "### Select the column names of metadata from above dropdowns \n",
    "\n",
    "* Sample column: select the column name of the meta data table that has sample names (patient IDs) <span style=\"color:purple\"> (e.g. SampleID) </span>\n",
    "* Groups column: select the column name of the meta data table that has sample type names <span style=\"color:purple\"> (e.g. group) </span>\n",
    "* Cell type column : select the column name of the meta data table that has cell annotations which you want to consider to infer GRN <span style=\"color:purple\">(e.g. cellType_curated) </span>\n",
    "\n",
    "To save the changes click on OK button"
   ]
  },
  {
   "cell_type": "code",
   "execution_count": 6,
   "id": "a98bcfdd-5ddf-4272-a0eb-716e446f5ab9",
   "metadata": {},
   "outputs": [
    {
     "name": "stdout",
     "output_type": "stream",
     "text": [
      "The column with Sample IDs is ---SampleID---\n",
      "The column with group name is ---group---\n",
      "The column with cell types is ---cellType_curated---\n"
     ]
    }
   ],
   "source": [
    "print(\"The column with Sample IDs is ---\" + Sample_column.value + \"---\")\n",
    "print(\"The column with group name is ---\" + Groups_column.value + \"---\")\n",
    "print(\"The column with cell types is ---\" + Celltype_column.value + \"---\")"
   ]
  },
  {
   "cell_type": "markdown",
   "id": "089e501f-293c-4f8a-864b-b301e7262091",
   "metadata": {},
   "source": [
    "<span style=\"color:orange\"> <b>** press the control/command key to select multiple values ** </b></span>"
   ]
  },
  {
   "cell_type": "code",
   "execution_count": 7,
   "id": "c7ac8539-5ad5-45c2-bcc4-78257ecf2ec7",
   "metadata": {},
   "outputs": [
    {
     "data": {
      "application/vnd.jupyter.widget-view+json": {
       "model_id": "78448b9846a64ee89451417d90ebf8cb",
       "version_major": 2,
       "version_minor": 0
      },
      "text/plain": [
       "HBox(children=(SelectMultiple(description='Sample IDs:', options=('All', 'C20_59_01_P022', 'C20_59_01_P026', '…"
      ]
     },
     "metadata": {},
     "output_type": "display_data"
    }
   ],
   "source": [
    "[Sample_IDs, Sample_type, Cell_types, Process_cells,button] = F.B(MetaData, Sample_column.value, Groups_column.value,Celltype_column.value)\n",
    "box = widgets.HBox([Sample_IDs, Sample_type,Cell_types,Process_cells,button])\n",
    "display(box)"
   ]
  },
  {
   "cell_type": "markdown",
   "id": "009098db-462e-4077-a9d5-7a489b8a5344",
   "metadata": {},
   "source": [
    "### Select the column attributes and give instruction to process the cells from above dropdowns \n",
    "\n",
    "<span style=\"color:orange\"> <b> For Sample IDs, Sample type and Cell types you can choose \"All\" to consider all samples from all conditions and all cell types </b> </span>\n",
    "\n",
    "* Sample IDs: Select the sample/s of your interest (you can choose multiple options using control/command tab) <span style=\"color:purple\"> (e.g. C20_59_01_P022) </span>\n",
    "* Sample type: select the sample type/s of your interest (you can choose multiple options using control/command tab) <span style=\"color:purple\"> (e.g. JIA) </span>\n",
    "* Cell types: select the cell type/s of your interest (you can choose multiple options using control/command tab) <span style=\"color:purple\"> (e.g. TCD4, TCD8, etc.) </span>\n",
    "* Processing cells: \n",
    "    1. <span style=\"color:purple\"> \"combine\" </span>, if you would like to merge all the selected samples and celltypes and extect one expression matrix\n",
    "    2. <span style=\"color:purple\"> \"keep_seperate\" </span>, if you want to extract gene expression matrix seperately for selected cell types\n"
   ]
  },
  {
   "cell_type": "code",
   "execution_count": 10,
   "id": "a2458eaa-f8db-42da-988a-599aa0f0536a",
   "metadata": {},
   "outputs": [
    {
     "name": "stdout",
     "output_type": "stream",
     "text": [
      "The selected sample names are ---['All']---\n",
      "The selected group names are ---['All']---\n",
      "The selected cell types are ---['NK']---\n",
      "You choose to ---Combine--- the cell types\n"
     ]
    }
   ],
   "source": [
    "print(\"The selected sample names are ---\" + str(list(Sample_IDs.value)) + \"---\")\n",
    "print(\"The selected group names are ---\" + str(list(Sample_type.value)) + \"---\")\n",
    "print(\"The selected cell types are ---\" + str(list(Cell_types.value)) + \"---\")\n",
    "print(\"You choose to ---\" + str(Process_cells.value) + \"--- the cell types\")"
   ]
  },
  {
   "cell_type": "markdown",
   "id": "be0bdcf2-5028-4f71-8dfc-7960a3078e5b",
   "metadata": {},
   "source": [
    "### Create Input files for infering GRN using pySCENIC"
   ]
  },
  {
   "cell_type": "code",
   "execution_count": 11,
   "id": "a21dae79-ece3-4109-ad7d-e26338d9976d",
   "metadata": {},
   "outputs": [
    {
     "name": "stdout",
     "output_type": "stream",
     "text": [
      "The input files for pySECNIC are successfully created and saved in folder: data/Exp3\n"
     ]
    }
   ],
   "source": [
    "I.create_scenic_input(Sample_column, Groups_column,Celltype_column, Sample_IDs, Sample_type, Cell_types, Process_cells, ExpDat, MetaData, Exp)"
   ]
  },
  {
   "cell_type": "markdown",
   "id": "17fc8c47-98c1-4a59-a2ed-3e38d8dc0b92",
   "metadata": {},
   "source": [
    "<span style=\"color:orange\"> <b> Copy and paste the folder path of input files below </b> </span> <br>\n",
    "<span style=\"color:purple\"> e.g. \"data/Exp1\" </span>"
   ]
  },
  {
   "cell_type": "code",
   "execution_count": 12,
   "id": "ac8186b2-f73f-42cd-8b8b-870ca4210d84",
   "metadata": {},
   "outputs": [],
   "source": [
    "FolderPath = \"data/Exp3\""
   ]
  },
  {
   "cell_type": "code",
   "execution_count": 13,
   "id": "d8505d90-1479-4a95-8530-7b051bf8a24f",
   "metadata": {},
   "outputs": [
    {
     "data": {
      "application/vnd.jupyter.widget-view+json": {
       "model_id": "684cc4c7d932405aaaf08da8f40cc08b",
       "version_major": 2,
       "version_minor": 0
      },
      "text/plain": [
       "HBox(children=(Dropdown(description='Choose file: ', options=('ExpDat_e3_gAll_sAll_cNK.csv.gz', 'ExpDat_e3_gIB…"
      ]
     },
     "metadata": {},
     "output_type": "display_data"
    }
   ],
   "source": [
    "[file,button] = F.C(FolderPath)\n",
    "box = widgets.HBox([file,button])\n",
    "display(box)"
   ]
  },
  {
   "cell_type": "markdown",
   "id": "581d2b80-091a-4949-a97e-8fa904f8dfeb",
   "metadata": {},
   "source": [
    "<span style=\"color:orange\"> <b> Select the file for which you want to infer GRN and click OK button</span> "
   ]
  },
  {
   "cell_type": "markdown",
   "id": "256ca906-be84-4330-953c-c1016340496a",
   "metadata": {},
   "source": [
    "### Infer GRN"
   ]
  },
  {
   "cell_type": "code",
   "execution_count": 14,
   "id": "15884495-51c8-4793-98fc-98a87d5990b5",
   "metadata": {},
   "outputs": [],
   "source": [
    "FILE = os.path.join(FolderPath, file.value)"
   ]
  },
  {
   "cell_type": "code",
   "execution_count": 15,
   "id": "8dc1bdba-8d2a-4b34-968e-bb8b0271eafc",
   "metadata": {},
   "outputs": [
    {
     "data": {
      "text/plain": [
       "'data/Exp3/ExpDat_e3_gAll_sAll_cNK.csv.gz'"
      ]
     },
     "execution_count": 15,
     "metadata": {},
     "output_type": "execute_result"
    }
   ],
   "source": [
    "FILE"
   ]
  },
  {
   "cell_type": "code",
   "execution_count": null,
   "id": "bca57fc3-0c4d-4373-947f-eada25943142",
   "metadata": {},
   "outputs": [
    {
     "name": "stdout",
     "output_type": "stream",
     "text": [
      "data/Exp3/ExpDat_e3_gAll_sAll_cNK\n",
      "results/data/Exp3/ExpDat_e3_gAll_sAll_cNK_1_GRN.csv\n",
      "Loaded expression matrix of 1066 cells and 23303 genes in 7.5971057415008545 seconds...\n",
      "Loaded 1839 TFs...\n",
      "starting grnboost2 using 40 processes...\n",
      "  6%|██                                  | 1314/23303 [18:32<9:46:51,  1.60s/it]"
     ]
    }
   ],
   "source": [
    "import warnings\n",
    "warnings.filterwarnings('ignore')\n",
    "\n",
    "!bash codes/Infer_GRN_celltypes.sh $FILE"
   ]
  },
  {
   "cell_type": "markdown",
   "id": "81b4566f-f39f-496f-b34d-1764ee1001da",
   "metadata": {},
   "source": []
  },
  {
   "cell_type": "code",
   "execution_count": null,
   "id": "d742c080-47a1-4d68-af15-2d932c81e77a",
   "metadata": {},
   "outputs": [],
   "source": []
  },
  {
   "cell_type": "code",
   "execution_count": null,
   "id": "ae26a46f-35ab-4777-a885-b4d408fba754",
   "metadata": {},
   "outputs": [],
   "source": []
  },
  {
   "cell_type": "code",
   "execution_count": null,
   "id": "198a2491-1035-4d36-8020-5669cd9129f9",
   "metadata": {},
   "outputs": [],
   "source": []
  },
  {
   "cell_type": "code",
   "execution_count": null,
   "id": "73a15e3b-79ca-4f7d-8efb-91f3600997b5",
   "metadata": {},
   "outputs": [],
   "source": []
  },
  {
   "cell_type": "code",
   "execution_count": null,
   "id": "27e06dfc-0487-4af1-a37f-044b2c61f363",
   "metadata": {},
   "outputs": [],
   "source": []
  },
  {
   "cell_type": "code",
   "execution_count": null,
   "id": "868b7308-eec5-4cff-bb3a-9bc4cd73fe1f",
   "metadata": {},
   "outputs": [],
   "source": []
  },
  {
   "cell_type": "code",
   "execution_count": null,
   "id": "ed269446-454b-4021-b2e5-3fa8f6a8f19e",
   "metadata": {},
   "outputs": [],
   "source": []
  },
  {
   "cell_type": "code",
   "execution_count": null,
   "id": "278d1f5a-6e7f-49cf-9f24-4f12c92dd67a",
   "metadata": {},
   "outputs": [],
   "source": []
  },
  {
   "cell_type": "code",
   "execution_count": null,
   "id": "dbc77902-c17c-4d36-916c-741012bc63e6",
   "metadata": {},
   "outputs": [],
   "source": []
  },
  {
   "cell_type": "code",
   "execution_count": null,
   "id": "272f4c45-19ce-4a34-ab4e-6c5ef3873cf9",
   "metadata": {},
   "outputs": [],
   "source": []
  }
 ],
 "metadata": {
  "kernelspec": {
   "display_name": "ATRACTionRHU4",
   "language": "python",
   "name": "atractionrhu4"
  },
  "language_info": {
   "codemirror_mode": {
    "name": "ipython",
    "version": 3
   },
   "file_extension": ".py",
   "mimetype": "text/x-python",
   "name": "python",
   "nbconvert_exporter": "python",
   "pygments_lexer": "ipython3",
   "version": "3.7.12"
  }
 },
 "nbformat": 4,
 "nbformat_minor": 5
}
